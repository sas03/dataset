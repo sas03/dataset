{
 "cells": [
  {
   "cell_type": "code",
   "execution_count": 1,
   "metadata": {},
   "outputs": [],
   "source": [
    "from sklearn import model_selection\n",
    "from sklearn import tree\n",
    "from sklearn import svm\n",
    "from sklearn import ensemble\n",
    "from sklearn import neighbors\n",
    "from sklearn import linear_model\n",
    "from sklearn import metrics\n",
    "from sklearn import preprocessing"
   ]
  },
  {
   "cell_type": "code",
   "execution_count": 2,
   "metadata": {},
   "outputs": [],
   "source": [
    "%matplotlib inline\n",
    "from IPython.display import Image\n",
    "import matplotlib as mlp\n",
    "import matplotlib.pyplot as plt\n",
    "import numpy as np\n",
    "import os\n",
    "import pandas as pd\n",
    "import sklearn\n",
    "import seaborn as sns\n",
    "import json\n",
    "import time"
   ]
  },
  {
   "cell_type": "markdown",
   "metadata": {},
   "source": [
    "# Ouverture du fichier dans un dataframe"
   ]
  },
  {
   "cell_type": "code",
   "execution_count": 4,
   "metadata": {},
   "outputs": [
    {
     "name": "stdout",
     "output_type": "stream",
     "text": [
      "Nombre de Lignes et de colonnes  (20000, 13)\n"
     ]
    }
   ],
   "source": [
    "df = pd.read_csv(\"C:/Users/hp/Downloads/data2.csv\")\n",
    "print (\"Nombre de Lignes et de colonnes \",df.shape)"
   ]
  },
  {
   "cell_type": "code",
   "execution_count": 5,
   "metadata": {
    "scrolled": true
   },
   "outputs": [
    {
     "data": {
      "text/html": [
       "<div>\n",
       "<style scoped>\n",
       "    .dataframe tbody tr th:only-of-type {\n",
       "        vertical-align: middle;\n",
       "    }\n",
       "\n",
       "    .dataframe tbody tr th {\n",
       "        vertical-align: top;\n",
       "    }\n",
       "\n",
       "    .dataframe thead th {\n",
       "        text-align: right;\n",
       "    }\n",
       "</style>\n",
       "<table border=\"1\" class=\"dataframe\">\n",
       "  <thead>\n",
       "    <tr style=\"text-align: right;\">\n",
       "      <th></th>\n",
       "      <th>Unnamed: 0</th>\n",
       "      <th>index</th>\n",
       "      <th>date</th>\n",
       "      <th>cheveux</th>\n",
       "      <th>age</th>\n",
       "      <th>exp</th>\n",
       "      <th>salaire</th>\n",
       "      <th>sexe</th>\n",
       "      <th>diplome</th>\n",
       "      <th>specialite</th>\n",
       "      <th>note</th>\n",
       "      <th>dispo</th>\n",
       "      <th>embauche</th>\n",
       "    </tr>\n",
       "  </thead>\n",
       "  <tbody>\n",
       "    <tr>\n",
       "      <td>0</td>\n",
       "      <td>0</td>\n",
       "      <td>0</td>\n",
       "      <td>2012-06-02</td>\n",
       "      <td>roux</td>\n",
       "      <td>25.0</td>\n",
       "      <td>9.0</td>\n",
       "      <td>26803.0</td>\n",
       "      <td>F</td>\n",
       "      <td>licence</td>\n",
       "      <td>geologie</td>\n",
       "      <td>97.08</td>\n",
       "      <td>non</td>\n",
       "      <td>0</td>\n",
       "    </tr>\n",
       "    <tr>\n",
       "      <td>1</td>\n",
       "      <td>1</td>\n",
       "      <td>1</td>\n",
       "      <td>2011-04-21</td>\n",
       "      <td>blond</td>\n",
       "      <td>35.0</td>\n",
       "      <td>13.0</td>\n",
       "      <td>38166.0</td>\n",
       "      <td>M</td>\n",
       "      <td>licence</td>\n",
       "      <td>forage</td>\n",
       "      <td>63.86</td>\n",
       "      <td>non</td>\n",
       "      <td>0</td>\n",
       "    </tr>\n",
       "    <tr>\n",
       "      <td>2</td>\n",
       "      <td>2</td>\n",
       "      <td>2</td>\n",
       "      <td>2012-09-07</td>\n",
       "      <td>blond</td>\n",
       "      <td>29.0</td>\n",
       "      <td>13.0</td>\n",
       "      <td>35207.0</td>\n",
       "      <td>M</td>\n",
       "      <td>licence</td>\n",
       "      <td>geologie</td>\n",
       "      <td>78.50</td>\n",
       "      <td>non</td>\n",
       "      <td>0</td>\n",
       "    </tr>\n",
       "    <tr>\n",
       "      <td>3</td>\n",
       "      <td>3</td>\n",
       "      <td>3</td>\n",
       "      <td>2011-07-01</td>\n",
       "      <td>brun</td>\n",
       "      <td>NaN</td>\n",
       "      <td>12.0</td>\n",
       "      <td>32442.0</td>\n",
       "      <td>M</td>\n",
       "      <td>licence</td>\n",
       "      <td>geologie</td>\n",
       "      <td>45.09</td>\n",
       "      <td>non</td>\n",
       "      <td>0</td>\n",
       "    </tr>\n",
       "    <tr>\n",
       "      <td>4</td>\n",
       "      <td>4</td>\n",
       "      <td>4</td>\n",
       "      <td>2012-08-07</td>\n",
       "      <td>roux</td>\n",
       "      <td>35.0</td>\n",
       "      <td>6.0</td>\n",
       "      <td>28533.0</td>\n",
       "      <td>F</td>\n",
       "      <td>licence</td>\n",
       "      <td>detective</td>\n",
       "      <td>81.91</td>\n",
       "      <td>non</td>\n",
       "      <td>0</td>\n",
       "    </tr>\n",
       "    <tr>\n",
       "      <td>5</td>\n",
       "      <td>5</td>\n",
       "      <td>5</td>\n",
       "      <td>2014-02-12</td>\n",
       "      <td>chatain</td>\n",
       "      <td>37.0</td>\n",
       "      <td>8.0</td>\n",
       "      <td>38558.0</td>\n",
       "      <td>M</td>\n",
       "      <td>master</td>\n",
       "      <td>geologie</td>\n",
       "      <td>63.46</td>\n",
       "      <td>non</td>\n",
       "      <td>1</td>\n",
       "    </tr>\n",
       "    <tr>\n",
       "      <td>6</td>\n",
       "      <td>6</td>\n",
       "      <td>6</td>\n",
       "      <td>2013-11-11</td>\n",
       "      <td>brun</td>\n",
       "      <td>33.0</td>\n",
       "      <td>12.0</td>\n",
       "      <td>39476.0</td>\n",
       "      <td>M</td>\n",
       "      <td>master</td>\n",
       "      <td>geologie</td>\n",
       "      <td>50.20</td>\n",
       "      <td>oui</td>\n",
       "      <td>0</td>\n",
       "    </tr>\n",
       "    <tr>\n",
       "      <td>7</td>\n",
       "      <td>7</td>\n",
       "      <td>7</td>\n",
       "      <td>2012-03-10</td>\n",
       "      <td>roux</td>\n",
       "      <td>31.0</td>\n",
       "      <td>10.0</td>\n",
       "      <td>42392.0</td>\n",
       "      <td>M</td>\n",
       "      <td>licence</td>\n",
       "      <td>forage</td>\n",
       "      <td>62.20</td>\n",
       "      <td>oui</td>\n",
       "      <td>0</td>\n",
       "    </tr>\n",
       "    <tr>\n",
       "      <td>8</td>\n",
       "      <td>8</td>\n",
       "      <td>8</td>\n",
       "      <td>2014-10-17</td>\n",
       "      <td>chatain</td>\n",
       "      <td>43.0</td>\n",
       "      <td>10.0</td>\n",
       "      <td>28625.0</td>\n",
       "      <td>M</td>\n",
       "      <td>doctorat</td>\n",
       "      <td>geologie</td>\n",
       "      <td>65.17</td>\n",
       "      <td>non</td>\n",
       "      <td>1</td>\n",
       "    </tr>\n",
       "    <tr>\n",
       "      <td>9</td>\n",
       "      <td>9</td>\n",
       "      <td>9</td>\n",
       "      <td>2011-06-04</td>\n",
       "      <td>chatain</td>\n",
       "      <td>28.0</td>\n",
       "      <td>11.0</td>\n",
       "      <td>32454.0</td>\n",
       "      <td>M</td>\n",
       "      <td>master</td>\n",
       "      <td>forage</td>\n",
       "      <td>66.93</td>\n",
       "      <td>non</td>\n",
       "      <td>1</td>\n",
       "    </tr>\n",
       "  </tbody>\n",
       "</table>\n",
       "</div>"
      ],
      "text/plain": [
       "   Unnamed: 0  index        date  cheveux   age   exp  salaire sexe   diplome  \\\n",
       "0           0      0  2012-06-02     roux  25.0   9.0  26803.0    F   licence   \n",
       "1           1      1  2011-04-21    blond  35.0  13.0  38166.0    M   licence   \n",
       "2           2      2  2012-09-07    blond  29.0  13.0  35207.0    M   licence   \n",
       "3           3      3  2011-07-01     brun   NaN  12.0  32442.0    M   licence   \n",
       "4           4      4  2012-08-07     roux  35.0   6.0  28533.0    F   licence   \n",
       "5           5      5  2014-02-12  chatain  37.0   8.0  38558.0    M    master   \n",
       "6           6      6  2013-11-11     brun  33.0  12.0  39476.0    M    master   \n",
       "7           7      7  2012-03-10     roux  31.0  10.0  42392.0    M   licence   \n",
       "8           8      8  2014-10-17  chatain  43.0  10.0  28625.0    M  doctorat   \n",
       "9           9      9  2011-06-04  chatain  28.0  11.0  32454.0    M    master   \n",
       "\n",
       "  specialite   note dispo  embauche  \n",
       "0   geologie  97.08   non         0  \n",
       "1     forage  63.86   non         0  \n",
       "2   geologie  78.50   non         0  \n",
       "3   geologie  45.09   non         0  \n",
       "4  detective  81.91   non         0  \n",
       "5   geologie  63.46   non         1  \n",
       "6   geologie  50.20   oui         0  \n",
       "7     forage  62.20   oui         0  \n",
       "8   geologie  65.17   non         1  \n",
       "9     forage  66.93   non         1  "
      ]
     },
     "execution_count": 5,
     "metadata": {},
     "output_type": "execute_result"
    }
   ],
   "source": [
    "df.head(10)"
   ]
  },
  {
   "cell_type": "markdown",
   "metadata": {},
   "source": [
    "# Bar chart des embauches"
   ]
  },
  {
   "cell_type": "code",
   "execution_count": 6,
   "metadata": {},
   "outputs": [
    {
     "data": {
      "text/plain": [
       "<matplotlib.axes._subplots.AxesSubplot at 0x247bc28f208>"
      ]
     },
     "execution_count": 6,
     "metadata": {},
     "output_type": "execute_result"
    },
    {
     "data": {
      "image/png": "[encoded data removed]",
      "text/plain": [
       "<Figure size 432x288 with 1 Axes>"
      ]
     },
     "metadata": {
      "needs_background": "light"
     },
     "output_type": "display_data"
    }
   ],
   "source": [
    "y = df[\"embauche\"].value_counts()\n",
    "sns.barplot(y.index, y.values)"
   ]
  },
  {
   "cell_type": "markdown",
   "metadata": {},
   "source": [
    "# Rejet de lignes avec des cellules vides"
   ]
  },
  {
   "cell_type": "code",
   "execution_count": 8,
   "metadata": {},
   "outputs": [],
   "source": [
    "df.dropna(inplace=True)"
   ]
  },
  {
   "cell_type": "markdown",
   "metadata": {},
   "source": [
    "# Recherche de valeurs incohérentes "
   ]
  },
  {
   "cell_type": "code",
   "execution_count": 9,
   "metadata": {},
   "outputs": [
    {
     "data": {
      "text/html": [
       "<div>\n",
       "<style scoped>\n",
       "    .dataframe tbody tr th:only-of-type {\n",
       "        vertical-align: middle;\n",
       "    }\n",
       "\n",
       "    .dataframe tbody tr th {\n",
       "        vertical-align: top;\n",
       "    }\n",
       "\n",
       "    .dataframe thead th {\n",
       "        text-align: right;\n",
       "    }\n",
       "</style>\n",
       "<table border=\"1\" class=\"dataframe\">\n",
       "  <thead>\n",
       "    <tr style=\"text-align: right;\">\n",
       "      <th></th>\n",
       "      <th>Unnamed: 0</th>\n",
       "      <th>index</th>\n",
       "      <th>age</th>\n",
       "      <th>exp</th>\n",
       "      <th>salaire</th>\n",
       "      <th>note</th>\n",
       "      <th>embauche</th>\n",
       "    </tr>\n",
       "  </thead>\n",
       "  <tbody>\n",
       "    <tr>\n",
       "      <td>count</td>\n",
       "      <td>19021.000000</td>\n",
       "      <td>19021.000000</td>\n",
       "      <td>19021.000000</td>\n",
       "      <td>19021.000000</td>\n",
       "      <td>19021.000000</td>\n",
       "      <td>19021.000000</td>\n",
       "      <td>19021.000000</td>\n",
       "    </tr>\n",
       "    <tr>\n",
       "      <td>mean</td>\n",
       "      <td>9993.008990</td>\n",
       "      <td>9993.008990</td>\n",
       "      <td>34.998791</td>\n",
       "      <td>9.496662</td>\n",
       "      <td>34966.878713</td>\n",
       "      <td>75.184446</td>\n",
       "      <td>0.114558</td>\n",
       "    </tr>\n",
       "    <tr>\n",
       "      <td>std</td>\n",
       "      <td>5771.344205</td>\n",
       "      <td>5771.344205</td>\n",
       "      <td>9.606263</td>\n",
       "      <td>3.012915</td>\n",
       "      <td>5005.208499</td>\n",
       "      <td>17.112102</td>\n",
       "      <td>0.318496</td>\n",
       "    </tr>\n",
       "    <tr>\n",
       "      <td>min</td>\n",
       "      <td>0.000000</td>\n",
       "      <td>0.000000</td>\n",
       "      <td>-3.000000</td>\n",
       "      <td>-2.000000</td>\n",
       "      <td>14128.000000</td>\n",
       "      <td>8.680000</td>\n",
       "      <td>0.000000</td>\n",
       "    </tr>\n",
       "    <tr>\n",
       "      <td>25%</td>\n",
       "      <td>4986.000000</td>\n",
       "      <td>4986.000000</td>\n",
       "      <td>29.000000</td>\n",
       "      <td>7.000000</td>\n",
       "      <td>31593.000000</td>\n",
       "      <td>63.730000</td>\n",
       "      <td>0.000000</td>\n",
       "    </tr>\n",
       "    <tr>\n",
       "      <td>50%</td>\n",
       "      <td>9989.000000</td>\n",
       "      <td>9989.000000</td>\n",
       "      <td>35.000000</td>\n",
       "      <td>9.000000</td>\n",
       "      <td>34968.000000</td>\n",
       "      <td>75.110000</td>\n",
       "      <td>0.000000</td>\n",
       "    </tr>\n",
       "    <tr>\n",
       "      <td>75%</td>\n",
       "      <td>14993.000000</td>\n",
       "      <td>14993.000000</td>\n",
       "      <td>41.000000</td>\n",
       "      <td>12.000000</td>\n",
       "      <td>38353.000000</td>\n",
       "      <td>86.670000</td>\n",
       "      <td>0.000000</td>\n",
       "    </tr>\n",
       "    <tr>\n",
       "      <td>max</td>\n",
       "      <td>19999.000000</td>\n",
       "      <td>19999.000000</td>\n",
       "      <td>72.000000</td>\n",
       "      <td>23.000000</td>\n",
       "      <td>53977.000000</td>\n",
       "      <td>143.220000</td>\n",
       "      <td>1.000000</td>\n",
       "    </tr>\n",
       "  </tbody>\n",
       "</table>\n",
       "</div>"
      ],
      "text/plain": [
       "         Unnamed: 0         index           age           exp       salaire  \\\n",
       "count  19021.000000  19021.000000  19021.000000  19021.000000  19021.000000   \n",
       "mean    9993.008990   9993.008990     34.998791      9.496662  34966.878713   \n",
       "std     5771.344205   5771.344205      9.606263      3.012915   5005.208499   \n",
       "min        0.000000      0.000000     -3.000000     -2.000000  14128.000000   \n",
       "25%     4986.000000   4986.000000     29.000000      7.000000  31593.000000   \n",
       "50%     9989.000000   9989.000000     35.000000      9.000000  34968.000000   \n",
       "75%    14993.000000  14993.000000     41.000000     12.000000  38353.000000   \n",
       "max    19999.000000  19999.000000     72.000000     23.000000  53977.000000   \n",
       "\n",
       "               note      embauche  \n",
       "count  19021.000000  19021.000000  \n",
       "mean      75.184446      0.114558  \n",
       "std       17.112102      0.318496  \n",
       "min        8.680000      0.000000  \n",
       "25%       63.730000      0.000000  \n",
       "50%       75.110000      0.000000  \n",
       "75%       86.670000      0.000000  \n",
       "max      143.220000      1.000000  "
      ]
     },
     "execution_count": 9,
     "metadata": {},
     "output_type": "execute_result"
    }
   ],
   "source": [
    "df.describe()"
   ]
  },
  {
   "cell_type": "markdown",
   "metadata": {},
   "source": [
    "# Rejet de lignes avec des valeurs incohérentes "
   ]
  },
  {
   "cell_type": "code",
   "execution_count": 10,
   "metadata": {},
   "outputs": [
    {
     "name": "stdout",
     "output_type": "stream",
     "text": [
      "Rejet des lignes comportant des valeur incohérentes\n"
     ]
    }
   ],
   "source": [
    "print (\"Rejet des lignes comportant des valeur incohérentes\")\n",
    "df = df[df.age > 0]\n",
    "df = df[df.exp > 0]"
   ]
  },
  {
   "cell_type": "markdown",
   "metadata": {},
   "source": [
    "# Transformation des variables catégorielles en boolean"
   ]
  },
  {
   "cell_type": "code",
   "execution_count": 11,
   "metadata": {},
   "outputs": [],
   "source": [
    "# Discreet value integer encoder\n",
    "label_encoder = preprocessing.LabelEncoder()\n",
    "# sexe, diplome, specialité and dispo are strings and we want discreet integer values\n",
    "df['sexe'] = label_encoder.fit_transform(df['sexe'])\n",
    "df['diplome'] = label_encoder.fit_transform(df['diplome'])\n",
    "df['specialite'] = label_encoder.fit_transform(df['specialite'])\n",
    "df['dispo'] = label_encoder.fit_transform(df['dispo'])"
   ]
  },
  {
   "cell_type": "markdown",
   "metadata": {},
   "source": [
    "# Nous n'avons bien que des types float ou integer dans le dataframe"
   ]
  },
  {
   "cell_type": "code",
   "execution_count": 12,
   "metadata": {},
   "outputs": [
    {
     "name": "stdout",
     "output_type": "stream",
     "text": [
      "Unnamed: 0      int64\n",
      "index           int64\n",
      "date           object\n",
      "cheveux        object\n",
      "age           float64\n",
      "exp           float64\n",
      "salaire       float64\n",
      "sexe            int32\n",
      "diplome         int32\n",
      "specialite      int32\n",
      "note          float64\n",
      "dispo           int32\n",
      "embauche        int64\n",
      "dtype: object\n"
     ]
    },
    {
     "data": {
      "text/html": [
       "<div>\n",
       "<style scoped>\n",
       "    .dataframe tbody tr th:only-of-type {\n",
       "        vertical-align: middle;\n",
       "    }\n",
       "\n",
       "    .dataframe tbody tr th {\n",
       "        vertical-align: top;\n",
       "    }\n",
       "\n",
       "    .dataframe thead th {\n",
       "        text-align: right;\n",
       "    }\n",
       "</style>\n",
       "<table border=\"1\" class=\"dataframe\">\n",
       "  <thead>\n",
       "    <tr style=\"text-align: right;\">\n",
       "      <th></th>\n",
       "      <th>Unnamed: 0</th>\n",
       "      <th>index</th>\n",
       "      <th>date</th>\n",
       "      <th>cheveux</th>\n",
       "      <th>age</th>\n",
       "      <th>exp</th>\n",
       "      <th>salaire</th>\n",
       "      <th>sexe</th>\n",
       "      <th>diplome</th>\n",
       "      <th>specialite</th>\n",
       "      <th>note</th>\n",
       "      <th>dispo</th>\n",
       "      <th>embauche</th>\n",
       "    </tr>\n",
       "  </thead>\n",
       "  <tbody>\n",
       "    <tr>\n",
       "      <td>0</td>\n",
       "      <td>0</td>\n",
       "      <td>0</td>\n",
       "      <td>2012-06-02</td>\n",
       "      <td>roux</td>\n",
       "      <td>25.0</td>\n",
       "      <td>9.0</td>\n",
       "      <td>26803.0</td>\n",
       "      <td>0</td>\n",
       "      <td>2</td>\n",
       "      <td>3</td>\n",
       "      <td>97.08</td>\n",
       "      <td>0</td>\n",
       "      <td>0</td>\n",
       "    </tr>\n",
       "    <tr>\n",
       "      <td>1</td>\n",
       "      <td>1</td>\n",
       "      <td>1</td>\n",
       "      <td>2011-04-21</td>\n",
       "      <td>blond</td>\n",
       "      <td>35.0</td>\n",
       "      <td>13.0</td>\n",
       "      <td>38166.0</td>\n",
       "      <td>1</td>\n",
       "      <td>2</td>\n",
       "      <td>2</td>\n",
       "      <td>63.86</td>\n",
       "      <td>0</td>\n",
       "      <td>0</td>\n",
       "    </tr>\n",
       "    <tr>\n",
       "      <td>2</td>\n",
       "      <td>2</td>\n",
       "      <td>2</td>\n",
       "      <td>2012-09-07</td>\n",
       "      <td>blond</td>\n",
       "      <td>29.0</td>\n",
       "      <td>13.0</td>\n",
       "      <td>35207.0</td>\n",
       "      <td>1</td>\n",
       "      <td>2</td>\n",
       "      <td>3</td>\n",
       "      <td>78.50</td>\n",
       "      <td>0</td>\n",
       "      <td>0</td>\n",
       "    </tr>\n",
       "    <tr>\n",
       "      <td>4</td>\n",
       "      <td>4</td>\n",
       "      <td>4</td>\n",
       "      <td>2012-08-07</td>\n",
       "      <td>roux</td>\n",
       "      <td>35.0</td>\n",
       "      <td>6.0</td>\n",
       "      <td>28533.0</td>\n",
       "      <td>0</td>\n",
       "      <td>2</td>\n",
       "      <td>1</td>\n",
       "      <td>81.91</td>\n",
       "      <td>0</td>\n",
       "      <td>0</td>\n",
       "    </tr>\n",
       "    <tr>\n",
       "      <td>5</td>\n",
       "      <td>5</td>\n",
       "      <td>5</td>\n",
       "      <td>2014-02-12</td>\n",
       "      <td>chatain</td>\n",
       "      <td>37.0</td>\n",
       "      <td>8.0</td>\n",
       "      <td>38558.0</td>\n",
       "      <td>1</td>\n",
       "      <td>3</td>\n",
       "      <td>3</td>\n",
       "      <td>63.46</td>\n",
       "      <td>0</td>\n",
       "      <td>1</td>\n",
       "    </tr>\n",
       "  </tbody>\n",
       "</table>\n",
       "</div>"
      ],
      "text/plain": [
       "   Unnamed: 0  index        date  cheveux   age   exp  salaire  sexe  diplome  \\\n",
       "0           0      0  2012-06-02     roux  25.0   9.0  26803.0     0        2   \n",
       "1           1      1  2011-04-21    blond  35.0  13.0  38166.0     1        2   \n",
       "2           2      2  2012-09-07    blond  29.0  13.0  35207.0     1        2   \n",
       "4           4      4  2012-08-07     roux  35.0   6.0  28533.0     0        2   \n",
       "5           5      5  2014-02-12  chatain  37.0   8.0  38558.0     1        3   \n",
       "\n",
       "   specialite   note  dispo  embauche  \n",
       "0           3  97.08      0         0  \n",
       "1           2  63.86      0         0  \n",
       "2           3  78.50      0         0  \n",
       "4           1  81.91      0         0  \n",
       "5           3  63.46      0         1  "
      ]
     },
     "execution_count": 12,
     "metadata": {},
     "output_type": "execute_result"
    }
   ],
   "source": [
    "print (df.dtypes)\n",
    "df.head()"
   ]
  },
  {
   "cell_type": "markdown",
   "metadata": {},
   "source": [
    "# Création du vecteur de résultat"
   ]
  },
  {
   "cell_type": "code",
   "execution_count": 13,
   "metadata": {},
   "outputs": [],
   "source": [
    "y = df['embauche'].values.astype(np.int)"
   ]
  },
  {
   "cell_type": "markdown",
   "metadata": {},
   "source": [
    "# Rejet de colonnes superflues"
   ]
  },
  {
   "cell_type": "code",
   "execution_count": 14,
   "metadata": {},
   "outputs": [],
   "source": [
    "df=df.drop(df.columns[[0]],axis='columns')\n",
    "df.drop([\"index\",\"date\",\"cheveux\",\"embauche\"], axis = 1, inplace=True)"
   ]
  },
  {
   "cell_type": "markdown",
   "metadata": {},
   "source": [
    "# Vérification du dataframe final input"
   ]
  },
  {
   "cell_type": "code",
   "execution_count": 15,
   "metadata": {},
   "outputs": [
    {
     "data": {
      "text/html": [
       "<div>\n",
       "<style scoped>\n",
       "    .dataframe tbody tr th:only-of-type {\n",
       "        vertical-align: middle;\n",
       "    }\n",
       "\n",
       "    .dataframe tbody tr th {\n",
       "        vertical-align: top;\n",
       "    }\n",
       "\n",
       "    .dataframe thead th {\n",
       "        text-align: right;\n",
       "    }\n",
       "</style>\n",
       "<table border=\"1\" class=\"dataframe\">\n",
       "  <thead>\n",
       "    <tr style=\"text-align: right;\">\n",
       "      <th></th>\n",
       "      <th>age</th>\n",
       "      <th>exp</th>\n",
       "      <th>salaire</th>\n",
       "      <th>sexe</th>\n",
       "      <th>diplome</th>\n",
       "      <th>specialite</th>\n",
       "      <th>note</th>\n",
       "      <th>dispo</th>\n",
       "    </tr>\n",
       "  </thead>\n",
       "  <tbody>\n",
       "    <tr>\n",
       "      <td>0</td>\n",
       "      <td>25.0</td>\n",
       "      <td>9.0</td>\n",
       "      <td>26803.0</td>\n",
       "      <td>0</td>\n",
       "      <td>2</td>\n",
       "      <td>3</td>\n",
       "      <td>97.08</td>\n",
       "      <td>0</td>\n",
       "    </tr>\n",
       "    <tr>\n",
       "      <td>1</td>\n",
       "      <td>35.0</td>\n",
       "      <td>13.0</td>\n",
       "      <td>38166.0</td>\n",
       "      <td>1</td>\n",
       "      <td>2</td>\n",
       "      <td>2</td>\n",
       "      <td>63.86</td>\n",
       "      <td>0</td>\n",
       "    </tr>\n",
       "    <tr>\n",
       "      <td>2</td>\n",
       "      <td>29.0</td>\n",
       "      <td>13.0</td>\n",
       "      <td>35207.0</td>\n",
       "      <td>1</td>\n",
       "      <td>2</td>\n",
       "      <td>3</td>\n",
       "      <td>78.50</td>\n",
       "      <td>0</td>\n",
       "    </tr>\n",
       "    <tr>\n",
       "      <td>4</td>\n",
       "      <td>35.0</td>\n",
       "      <td>6.0</td>\n",
       "      <td>28533.0</td>\n",
       "      <td>0</td>\n",
       "      <td>2</td>\n",
       "      <td>1</td>\n",
       "      <td>81.91</td>\n",
       "      <td>0</td>\n",
       "    </tr>\n",
       "    <tr>\n",
       "      <td>5</td>\n",
       "      <td>37.0</td>\n",
       "      <td>8.0</td>\n",
       "      <td>38558.0</td>\n",
       "      <td>1</td>\n",
       "      <td>3</td>\n",
       "      <td>3</td>\n",
       "      <td>63.46</td>\n",
       "      <td>0</td>\n",
       "    </tr>\n",
       "  </tbody>\n",
       "</table>\n",
       "</div>"
      ],
      "text/plain": [
       "    age   exp  salaire  sexe  diplome  specialite   note  dispo\n",
       "0  25.0   9.0  26803.0     0        2           3  97.08      0\n",
       "1  35.0  13.0  38166.0     1        2           2  63.86      0\n",
       "2  29.0  13.0  35207.0     1        2           3  78.50      0\n",
       "4  35.0   6.0  28533.0     0        2           1  81.91      0\n",
       "5  37.0   8.0  38558.0     1        3           3  63.46      0"
      ]
     },
     "execution_count": 15,
     "metadata": {},
     "output_type": "execute_result"
    }
   ],
   "source": [
    "df.head()"
   ]
  },
  {
   "cell_type": "markdown",
   "metadata": {},
   "source": [
    "# Toutes les valeurs du dataframe sont des réels"
   ]
  },
  {
   "cell_type": "code",
   "execution_count": 22,
   "metadata": {},
   "outputs": [],
   "source": [
    "X = df.values.astype(np.float)"
   ]
  },
  {
   "cell_type": "markdown",
   "metadata": {},
   "source": [
    "***Comme de nombreux éléments utilisés dans les fonction objectives d'un algorithme d'apprentissage (comme le noyau RBF du SVM ou les régularisateurs L1 et L2 des modèles linéaires) supposent que toutes les caractéristiques soient centrées autour de 0 et ont une variance du même ordre, il est nécessaire de normaliser (remettre à l’échelle) l’ensemble des données en les re-calculant avec une moyenne nulle et un ecart type de 1.¶ Avec StandardScaler(), cette technique part du principe que les données sont normalement distribuées.***"
   ]
  },
  {
   "cell_type": "code",
   "execution_count": null,
   "metadata": {},
   "outputs": [],
   "source": [
    "scaler = preprocessing.StandardScaler()\n",
    "X = scaler.fit_transform(X)"
   ]
  },
  {
   "cell_type": "markdown",
   "metadata": {},
   "source": [
    "***Nous devons adopter la validation croisée stratifiée (« stratified cross validation »), car les valeurs de réponse ne sont pas équilibrées. La validation croisée va nous permettre de diviser le jeu de données en k parties (folds en anglais) tour à tour utilisée pour l’entraînement et pour la validation. Et pour éviter d'introduire des biais dans le cas d'une classification il est nécessaire de sratitifier la validation croisée. On s’efforce de créer les k folds de sorte à ce qu’elles contiennent à peu près les mêmes proportions d’exemples de chaque classe que le jeu de données complet, et éviter qu'un jeu d'entrainement ne contiennent que des exemples positifs et que le jeux de tests le contraire (source https://j.mp/3kAjedo)***"
   ]
  },
  {
   "cell_type": "code",
   "execution_count": 24,
   "metadata": {},
   "outputs": [],
   "source": [
    "def stratified_cv(X, y, clf_class, shuffle=True, n_folds=10):\n",
    "    stratified_k_fold = model_selection.StratifiedKFold(n_splits=n_folds, shuffle=shuffle)\n",
    "    y_pred = y.copy()\n",
    "    # ii -> train\n",
    "    # jj -> test indices\n",
    "    for ii, jj in stratified_k_fold.split(X, y):\n",
    "        X_train, X_test = X[ii], X[jj]\n",
    "        y_train = y[ii]\n",
    "        clf = clf_class\n",
    "        clf.fit(X_train,y_train)\n",
    "        y_pred[jj] = clf.predict(X_test)\n",
    "    return y_pred"
   ]
  },
  {
   "cell_type": "markdown",
   "metadata": {},
   "source": [
    "***Définition d'une classe timer pour calculer le temps d'exécution d'un calcul. Déterminer le meilleur algorithme sur la base de ses performances de précision, doit-être rapporté au temps de calcul nécessaire à l'apprentissage. Nous utiliserons un interval timer pour calculer le temps de calcul entre 2 appels à cette class Timer***"
   ]
  },
  {
   "cell_type": "code",
   "execution_count": 25,
   "metadata": {},
   "outputs": [],
   "source": [
    "class Timer(object):\n",
    "    def __enter__(self):\n",
    "        self.start()\n",
    "        # __enter__ must return an instance bound with the \"as\" keyword\n",
    "        return self\n",
    "\n",
    "    # There are other arguments to __exit__ but we don't care here\n",
    "    def __exit__(self, *args, **kwargs):\n",
    "        self.stop()\n",
    "\n",
    "    def start(self):\n",
    "        if hasattr(self, 'interval'):\n",
    "            del self.interval\n",
    "        self.start_time = time.time()\n",
    "\n",
    "    def stop(self):\n",
    "        if hasattr(self, 'start_time'):\n",
    "            self.interval = round(time.time() - self.start_time,2)\n",
    "            del self.start_time # Force timer reinit"
   ]
  },
  {
   "cell_type": "markdown",
   "metadata": {},
   "source": [
    "# Gradient Boosting Classifier"
   ]
  },
  {
   "cell_type": "code",
   "execution_count": 26,
   "metadata": {},
   "outputs": [
    {
     "name": "stdout",
     "output_type": "stream",
     "text": [
      "Gradient Boosting Classifier:\n",
      "               precision    recall  f1-score   support\n",
      "\n",
      "           0       0.90      0.99      0.95     16813\n",
      "           1       0.79      0.16      0.27      2178\n",
      "\n",
      "    accuracy                           0.90     18991\n",
      "   macro avg       0.84      0.58      0.61     18991\n",
      "weighted avg       0.89      0.90      0.87     18991\n",
      "\n",
      "\n",
      "Temps de calcul 35.01\n"
     ]
    },
    {
     "data": {
      "image/png": "[encoded data removed]",
      "text/plain": [
       "<Figure size 432x288 with 2 Axes>"
      ]
     },
     "metadata": {
      "needs_background": "light"
     },
     "output_type": "display_data"
    }
   ],
   "source": [
    "with Timer() as timer:\n",
    "    from sklearn.ensemble import GradientBoostingClassifier\n",
    "    gradient_boost = GradientBoostingClassifier()\n",
    "    #print('Gradient Boosting Classifier:  {:.2f}'.format(metrics.accuracy_score(y, stratified_cv(X, y, gradient_boost))))\n",
    "    grad_ens_conf_matrix = metrics.confusion_matrix(y, stratified_cv(X, y, gradient_boost))\n",
    "    sns.heatmap(grad_ens_conf_matrix, annot=True,  fmt='');\n",
    "    title = 'Gradient Boosting'\n",
    "    plt.title(title);\n",
    "    print('Gradient Boosting Classifier:\\n {}\\n'.format(metrics.classification_report(y, stratified_cv(X, y, gradient_boost))))\n",
    "print ('Temps de calcul',timer.interval)"
   ]
  },
  {
   "cell_type": "markdown",
   "metadata": {},
   "source": [
    "# Support Vector Machine"
   ]
  },
  {
   "cell_type": "code",
   "execution_count": 27,
   "metadata": {},
   "outputs": [
    {
     "name": "stdout",
     "output_type": "stream",
     "text": [
      "Support vector machine(SVM):\n",
      "               precision    recall  f1-score   support\n",
      "\n",
      "           0       0.91      1.00      0.95     16813\n",
      "           1       0.86      0.20      0.32      2178\n",
      "\n",
      "    accuracy                           0.90     18991\n",
      "   macro avg       0.88      0.60      0.63     18991\n",
      "weighted avg       0.90      0.90      0.88     18991\n",
      "\n",
      "\n",
      "Temps de calcul 159.0\n"
     ]
    },
    {
     "data": {
      "image/png": "[encoded data removed]",
      "text/plain": [
       "<Figure size 432x288 with 2 Axes>"
      ]
     },
     "metadata": {
      "needs_background": "light"
     },
     "output_type": "display_data"
    }
   ],
   "source": [
    "with Timer() as timer:\n",
    "    from sklearn.svm import SVC\n",
    "    svc_model = SVC(gamma='auto')\n",
    "    #print('Support vector machine(SVM):   {:.2f}'.format(metrics.accuracy_score(y, stratified_cv(X, y, svc_model))))\n",
    "    svm_svc_conf_matrix = metrics.confusion_matrix(y, stratified_cv(X, y, svc_model))\n",
    "    sns.heatmap(svm_svc_conf_matrix, annot=True,  fmt='');\n",
    "    title = 'SVM'\n",
    "    plt.title(title);\n",
    "    print('Support vector machine(SVM):\\n {}\\n'.format(metrics.classification_report(y, stratified_cv(X, y, svc_model))))\n",
    "print ('Temps de calcul',timer.interval)"
   ]
  },
  {
   "cell_type": "markdown",
   "metadata": {},
   "source": [
    "# Random Forest Classifier"
   ]
  },
  {
   "cell_type": "code",
   "execution_count": 28,
   "metadata": {},
   "outputs": [
    {
     "name": "stdout",
     "output_type": "stream",
     "text": [
      "Random Forest Classifier:\n",
      "               precision    recall  f1-score   support\n",
      "\n",
      "           0       0.91      0.98      0.95     16813\n",
      "           1       0.70      0.28      0.40      2178\n",
      "\n",
      "    accuracy                           0.90     18991\n",
      "   macro avg       0.81      0.63      0.67     18991\n",
      "weighted avg       0.89      0.90      0.88     18991\n",
      "\n",
      "\n",
      "Temps de calcul 7.57\n"
     ]
    },
    {
     "data": {
      "image/png": "[encoded data removed]",
      "text/plain": [
       "<Figure size 432x288 with 2 Axes>"
      ]
     },
     "metadata": {
      "needs_background": "light"
     },
     "output_type": "display_data"
    }
   ],
   "source": [
    "with Timer() as timer:\n",
    "    from sklearn.ensemble import RandomForestClassifier\n",
    "    random_forest = RandomForestClassifier(n_estimators=10)\n",
    "    #print('Random Forest Classifier:      {:.2f}'.format(metrics.accuracy_score(y, stratified_cv(X, y, random_forest))))\n",
    "    Random_Forest_Classifier_matrix = metrics.confusion_matrix(y, stratified_cv(X, y, random_forest))\n",
    "    sns.heatmap(Random_Forest_Classifier_matrix, annot=True,  fmt='');\n",
    "    title = 'Random_Forest_Classifier'\n",
    "    plt.title(title);\n",
    "    print('Random Forest Classifier:\\n {}\\n'.format(metrics.classification_report(y, stratified_cv(X, y, random_forest))))\n",
    "print ('Temps de calcul',timer.interval)"
   ]
  },
  {
   "cell_type": "markdown",
   "metadata": {},
   "source": [
    "# KNeighbors Classifier"
   ]
  },
  {
   "cell_type": "code",
   "execution_count": 29,
   "metadata": {},
   "outputs": [
    {
     "name": "stdout",
     "output_type": "stream",
     "text": [
      "K_Neighbor_Classifier:\n",
      "               precision    recall  f1-score   support\n",
      "\n",
      "           0       0.92      0.98      0.95     16813\n",
      "           1       0.64      0.32      0.43      2178\n",
      "\n",
      "    accuracy                           0.90     18991\n",
      "   macro avg       0.78      0.65      0.69     18991\n",
      "weighted avg       0.89      0.90      0.89     18991\n",
      "\n",
      "\n",
      "Temps de calcul 6.6\n"
     ]
    },
    {
     "data": {
      "image/png": "[encoded data removed]",
      "text/plain": [
       "<Figure size 432x288 with 2 Axes>"
      ]
     },
     "metadata": {
      "needs_background": "light"
     },
     "output_type": "display_data"
    }
   ],
   "source": [
    "with Timer() as timer:\n",
    "    from sklearn.neighbors import KNeighborsClassifier\n",
    "    k_neighbors = KNeighborsClassifier()\n",
    "    #print('K Nearest Neighbor Classifier: {:.2f}'.format(metrics.accuracy_score(y, stratified_cv(X, y, k_neighbors))))\n",
    "    K_Neighbor_Class_matrix = metrics.confusion_matrix(y, stratified_cv(X, y, k_neighbors))\n",
    "    sns.heatmap(K_Neighbor_Class_matrix, annot=True,  fmt='');\n",
    "    title = 'K_Neighbor_Classifier'\n",
    "    plt.title(title);\n",
    "    print('K_Neighbor_Classifier:\\n {}\\n'.format(metrics.classification_report(y, stratified_cv(X, y, k_neighbors))))\n",
    "print ('Temps de calcul',timer.interval)"
   ]
  },
  {
   "cell_type": "markdown",
   "metadata": {},
   "source": [
    "# Logistic Regression"
   ]
  },
  {
   "cell_type": "code",
   "execution_count": 30,
   "metadata": {},
   "outputs": [
    {
     "name": "stdout",
     "output_type": "stream",
     "text": [
      "Logistic Regression:           0.89\n",
      "Temps de calcul 0.65\n"
     ]
    },
    {
     "data": {
      "image/png": "[encoded data removed]",
      "text/plain": [
       "<Figure size 432x288 with 2 Axes>"
      ]
     },
     "metadata": {
      "needs_background": "light"
     },
     "output_type": "display_data"
    }
   ],
   "source": [
    "with Timer() as timer:\n",
    "    from sklearn.linear_model import LogisticRegression\n",
    "    logistic_regression = LogisticRegression(solver='lbfgs')\n",
    "    print('Logistic Regression:           {:.2f}'.format(metrics.accuracy_score(y, stratified_cv(X, y, logistic_regression))))\n",
    "    LogisticRegression_conf_matrix = metrics.confusion_matrix(y, stratified_cv(X, y, logistic_regression))\n",
    "    sns.heatmap(LogisticRegression_conf_matrix, annot=True,  fmt='');\n",
    "    title = 'LogisticRegression'\n",
    "    plt.title(title);\n",
    "print ('Temps de calcul',timer.interval)"
   ]
  },
  {
   "cell_type": "markdown",
   "metadata": {},
   "source": [
    "# Final Model Selection"
   ]
  },
  {
   "cell_type": "code",
   "execution_count": 31,
   "metadata": {},
   "outputs": [
    {
     "data": {
      "text/plain": [
       "GradientBoostingClassifier(criterion='friedman_mse', init=None,\n",
       "                           learning_rate=0.1, loss='deviance', max_depth=3,\n",
       "                           max_features=None, max_leaf_nodes=None,\n",
       "                           min_impurity_decrease=0.0, min_impurity_split=None,\n",
       "                           min_samples_leaf=1, min_samples_split=2,\n",
       "                           min_weight_fraction_leaf=0.0, n_estimators=100,\n",
       "                           n_iter_no_change=None, presort='auto',\n",
       "                           random_state=None, subsample=1.0, tol=0.0001,\n",
       "                           validation_fraction=0.1, verbose=0,\n",
       "                           warm_start=False)"
      ]
     },
     "execution_count": 31,
     "metadata": {},
     "output_type": "execute_result"
    }
   ],
   "source": [
    "gbc = ensemble.GradientBoostingClassifier()\n",
    "gbc.fit(X, y)"
   ]
  },
  {
   "cell_type": "code",
   "execution_count": 32,
   "metadata": {},
   "outputs": [
    {
     "name": "stdout",
     "output_type": "stream",
     "text": [
      "[0.00979113 0.00318338 0.08111136 0.21822014 0.12467012 0.16168512\n",
      " 0.2032825  0.19805626]\n",
      "sexe          0.218220\n",
      "note          0.203283\n",
      "dispo         0.198056\n",
      "specialite    0.161685\n",
      "diplome       0.124670\n",
      "salaire       0.081111\n",
      "age           0.009791\n",
      "exp           0.003183\n",
      "dtype: float64\n"
     ]
    },
    {
     "data": {
      "image/png": "[encoded data removed]",
      "text/plain": [
       "<Figure size 720x720 with 1 Axes>"
      ]
     },
     "metadata": {
      "needs_background": "light"
     },
     "output_type": "display_data"
    }
   ],
   "source": [
    "# Get Feature Importance from the classifier\n",
    "feature_importance = gbc.feature_importances_\n",
    "print (gbc.feature_importances_)\n",
    "feat_importances = pd.Series(gbc.feature_importances_, index=df.columns)\n",
    "feat_importances = feat_importances.nlargest(19)\n",
    "feat_importances.plot(kind='barh' , figsize=(10,10))\n",
    "print(feat_importances)"
   ]
  },
  {
   "cell_type": "code",
   "execution_count": null,
   "metadata": {},
   "outputs": [],
   "source": []
  }
 ],
 "metadata": {
  "kernelspec": {
   "display_name": "Python 3",
   "language": "python",
   "name": "python3"
  },
  "language_info": {
   "codemirror_mode": {
    "name": "ipython",
    "version": 3
   },
   "file_extension": ".py",
   "mimetype": "text/x-python",
   "name": "python",
   "nbconvert_exporter": "python",
   "pygments_lexer": "ipython3",
   "version": "3.7.4"
  }
 },
 "nbformat": 4,
 "nbformat_minor": 2
}
